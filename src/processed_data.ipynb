{
 "cells": [
  {
   "cell_type": "code",
   "execution_count": null,
   "metadata": {},
   "outputs": [],
   "source": [
    "import pandas as pd\n",
    "import wget\n",
    "import os\n",
    "from tqdm import tqdm\n",
    "from bs4 import BeautifulSoup"
   ]
  },
  {
   "cell_type": "code",
   "execution_count": null,
   "metadata": {},
   "outputs": [],
   "source": [
    "data = pd.read_csv('../dataset/bfn-trending-strip-deduped.tsv', sep='\\t')"
   ]
  },
  {
   "cell_type": "code",
   "execution_count": null,
   "metadata": {},
   "outputs": [],
   "source": [
    "# Filter articles with a timestamp_first value after january 1st 2023\n",
    "data = data[data['timestamp_first'] > '2023-01-01']\n",
    "\n",
    "# Download all articles\n",
    "for i in tqdm(range(len(data))):\n",
    "    if os.path.exists('../dataset/articles/' + data['url'].iloc[i].split('/')[-1]):\n",
    "        continue\n",
    "    wget.download(data['url'].iloc[i], out='../dataset/articles/')"
   ]
  },
  {
   "cell_type": "code",
   "execution_count": null,
   "metadata": {},
   "outputs": [],
   "source": [
    "for file in os.listdir('../dataset/articles/')[:100]:\n",
    "    soup = BeautifulSoup(open(f\"../dataset/articles/{file}\", \"r+\"))\n",
    "\n",
    "    all_text = soup.main.find_all('h1')[0].parent.parent.parent.findChildren(lambda tag: tag.name in [\"p\", \"h1\", \"h2\", \"h3\", \"h4\", \"h5\", \"h6\"])\n",
    "\n",
    "    text = \"\"\n",
    "    for i in range(len(all_text) - 3):\n",
    "        if all_text[i].name != 'p' and all_text[i].name != 'span' and len(all_text[i].text.split()) and len(all_text[i].text.split()[0]) > 0:\n",
    "            text += '#' * int(all_text[i].name[-1]) + ' '\n",
    "        if len(all_text[i].text.split()) and all_text[i].text.split()[0] != \"BuzzFeed\":\n",
    "            text += all_text[i].text + '\\n\\n'\n",
    "    \n",
    "    with open(f\"../dataset/processed/{file}.md\", \"w+\") as f:\n",
    "        f.write(text)\n"
   ]
  }
 ],
 "metadata": {
  "kernelspec": {
   "display_name": "blueprompt",
   "language": "python",
   "name": "python3"
  },
  "language_info": {
   "codemirror_mode": {
    "name": "ipython",
    "version": 3
   },
   "file_extension": ".py",
   "mimetype": "text/x-python",
   "name": "python",
   "nbconvert_exporter": "python",
   "pygments_lexer": "ipython3",
   "version": "3.8.16"
  }
 },
 "nbformat": 4,
 "nbformat_minor": 2
}
