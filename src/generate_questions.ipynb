{
 "cells": [
  {
   "cell_type": "code",
   "execution_count": null,
   "metadata": {},
   "outputs": [],
   "source": [
    "from utils import make_chat_tree, merge_chat_trees, ChatNode, format_table\n",
    "import json\n",
    "from tqdm import tqdm\n",
    "from typing import List\n",
    "import os\n",
    "import pandas as pd\n",
    "import numpy as np"
   ]
  },
  {
   "cell_type": "code",
   "execution_count": null,
   "metadata": {},
   "outputs": [],
   "source": [
    "# Generate question list\n",
    "for file in tqdm(os.listdir(\"../dataset/parsed/\")):\n",
    "    if os.path.exists(\"../data/questions/\" + file.split(\".\")[0] + \".json\"):\n",
    "        continue\n",
    "    f = open(\"../dataset/parsed/\" + file, \"r\")\n",
    "    question_probe = make_chat_tree(\"../prompts/extract_questions.json\", md_article=f.read())\n",
    "\n",
    "    questions_raw = question_probe.complete(model=\"gpt-4-0314\", temperature=0.8, max_tokens=1024).content\n",
    "    \n",
    "    questions = json.loads((\"[\" + questions_raw.split(\"[\")[1].split(\"]\")[0] +\"]\").replace(\"(\", '[').replace(\")\", ']'))\n",
    "\n",
    "    json.dump(questions, open(\"../data/questions/\" + file.split(\".\")[0] + \".json\", \"w\"), indent=4)"
   ]
  },
  {
   "cell_type": "code",
   "execution_count": null,
   "metadata": {},
   "outputs": [],
   "source": []
  }
 ],
 "metadata": {
  "kernelspec": {
   "display_name": "blueprompt",
   "language": "python",
   "name": "python3"
  },
  "language_info": {
   "codemirror_mode": {
    "name": "ipython",
    "version": 3
   },
   "file_extension": ".py",
   "mimetype": "text/x-python",
   "name": "python",
   "nbconvert_exporter": "python",
   "pygments_lexer": "ipython3",
   "version": "3.8.16"
  }
 },
 "nbformat": 4,
 "nbformat_minor": 2
}
