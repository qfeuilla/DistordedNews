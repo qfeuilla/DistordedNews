{
 "cells": [
  {
   "cell_type": "code",
   "execution_count": null,
   "metadata": {},
   "outputs": [],
   "source": [
    "from utils import make_chat_tree, merge_chat_trees, ChatNode, format_table\n",
    "import json\n",
    "from tqdm import tqdm\n",
    "from typing import List\n",
    "import os\n",
    "import pandas as pd\n",
    "import numpy as np"
   ]
  },
  {
   "cell_type": "code",
   "execution_count": null,
   "metadata": {},
   "outputs": [],
   "source": [
    "all_questions_ordered = json.load(open(\"../data/all_questions_ordered.json\", \"r\"))"
   ]
  },
  {
   "cell_type": "code",
   "execution_count": 14,
   "metadata": {},
   "outputs": [
    {
     "name": "stderr",
     "output_type": "stream",
     "text": [
      " 79%|███████▉  | 79/100 [05:59<01:34,  4.50s/it]"
     ]
    },
    {
     "name": "stdout",
     "output_type": "stream",
     "text": [
      "[False, True, False, False, False, False, False, False, False, False]\n",
      "9 79\n"
     ]
    },
    {
     "name": "stderr",
     "output_type": "stream",
     "text": [
      "100%|██████████| 100/100 [07:53<00:00,  4.73s/it]\n"
     ]
    }
   ],
   "source": [
    "for i in range(10):\n",
    "    all_answers = json.load(open(\"../data/rewrite_\" + str(i) + \"/all_answers.json\", \"r\"))\n",
    "    all_eval = []\n",
    "\n",
    "    j = 0\n",
    "    for answers in tqdm(all_answers):\n",
    "        eval_probe = make_chat_tree(\n",
    "            \"../prompts/evaluate_question.json\", \n",
    "            questions=\"[\" + \",\\n\".join([q[0] for q in all_questions_ordered[j]]) + \"\\n]\",\n",
    "            correct=\"[\" + \",\\n\".join([q[1] for q in all_questions_ordered[j]]) + \"\\n]\",\n",
    "            answers=\"[\" + \",\\n\".join(answers) + \"\\n]\",\n",
    "        )\n",
    "\n",
    "        retry = 3\n",
    "        while retry > 0:\n",
    "            eval_raw = eval_probe.complete(model=\"gpt-4\", temperature=0.6, max_tokens=512).content\n",
    "\n",
    "            evals = []\n",
    "            try:\n",
    "                evals = json.loads((\"[\" + eval_raw.split(\"[\")[1].split(\"]\")[0] +\"]\"))\n",
    "                retry = 0\n",
    "            except:\n",
    "                retry -= 1\n",
    "                print(eval_raw)\n",
    "                print(i, j)\n",
    "        \n",
    "        all_eval.append(evals)\n",
    "\n",
    "        json.dump(all_eval, open(\"../data/rewrite_\" + str(i) + \"/all_eval.json\", \"w\"), indent=4)\n",
    "        j += 1"
   ]
  },
  {
   "cell_type": "code",
   "execution_count": null,
   "metadata": {},
   "outputs": [],
   "source": []
  }
 ],
 "metadata": {
  "kernelspec": {
   "display_name": "blueprompt",
   "language": "python",
   "name": "python3"
  },
  "language_info": {
   "codemirror_mode": {
    "name": "ipython",
    "version": 3
   },
   "file_extension": ".py",
   "mimetype": "text/x-python",
   "name": "python",
   "nbconvert_exporter": "python",
   "pygments_lexer": "ipython3",
   "version": "3.8.16"
  }
 },
 "nbformat": 4,
 "nbformat_minor": 2
}
