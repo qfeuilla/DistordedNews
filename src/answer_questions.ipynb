{
 "cells": [
  {
   "cell_type": "code",
   "execution_count": null,
   "metadata": {},
   "outputs": [],
   "source": [
    "from utils import make_chat_tree, merge_chat_trees, ChatNode, format_table\n",
    "import json\n",
    "from tqdm import tqdm\n",
    "from typing import List\n",
    "import os\n",
    "import pandas as pd\n",
    "import numpy as np"
   ]
  },
  {
   "cell_type": "code",
   "execution_count": null,
   "metadata": {},
   "outputs": [],
   "source": [
    "all_questions = {}\n",
    "for file in os.listdir(\"../data/questions/\"):\n",
    "    question_data = json.load(open(\"../data/questions/\" + file, \"r\"))\n",
    "    all_questions[file.split('.')[0]] = question_data"
   ]
  },
  {
   "cell_type": "code",
   "execution_count": null,
   "metadata": {},
   "outputs": [],
   "source": [
    "data_order = json.load(open(\"../data/all_articles_order.json\", \"r\"))"
   ]
  },
  {
   "cell_type": "code",
   "execution_count": null,
   "metadata": {},
   "outputs": [],
   "source": [
    "all_questions_ordered = []\n",
    "for file in data_order:\n",
    "    title = file[\"article\"].split('.')[0]\n",
    "    all_questions_ordered.append(all_questions[title])\n",
    "json.dump(all_questions_ordered, open(\"../data/all_questions_ordered.json\", \"w\"), indent=4)"
   ]
  },
  {
   "cell_type": "code",
   "execution_count": null,
   "metadata": {},
   "outputs": [],
   "source": [
    "for i in range(10):\n",
    "    all_data = json.load(open(\"../data/rewrite_\" + str(i) + \"/all_articles.json\", \"r\"))\n",
    "    all_answers = []\n",
    "\n",
    "    j = 0\n",
    "    for data in tqdm(all_data):\n",
    "        answers_probe = make_chat_tree(\"../prompts/ask_questions.json\", md_article=data[\"article\"], questions=\"[\" + \",\\n\".join([q[0] for q in all_questions_ordered[j]]) + \"\\n]\")\n",
    "\n",
    "        retry = 3\n",
    "        while retry > 0:\n",
    "            answers_raw = answers_probe.complete(model=\"gpt-3.5-turbo-16k-0613\", temperature=0.6, max_tokens=1024).content\n",
    "\n",
    "            answers = []\n",
    "            try:\n",
    "                answers = json.loads((\"[\" + answers_raw.split(\"[\")[1].split(\"]\")[0] +\"]\"))\n",
    "                retry = 0\n",
    "            except:\n",
    "                retry -= 1\n",
    "                print(answers_raw)\n",
    "                print(i, j)\n",
    "        \n",
    "        all_answers.append(answers)\n",
    "\n",
    "        json.dump(all_answers, open(\"../data/rewrite_\" + str(i) + \"/all_answers.json\", \"w\"), indent=4)\n",
    "        j += 1"
   ]
  },
  {
   "cell_type": "code",
   "execution_count": null,
   "metadata": {},
   "outputs": [],
   "source": []
  }
 ],
 "metadata": {
  "kernelspec": {
   "display_name": "blueprompt",
   "language": "python",
   "name": "python3"
  },
  "language_info": {
   "codemirror_mode": {
    "name": "ipython",
    "version": 3
   },
   "file_extension": ".py",
   "mimetype": "text/x-python",
   "name": "python",
   "nbconvert_exporter": "python",
   "pygments_lexer": "ipython3",
   "version": "3.8.16"
  }
 },
 "nbformat": 4,
 "nbformat_minor": 2
}
